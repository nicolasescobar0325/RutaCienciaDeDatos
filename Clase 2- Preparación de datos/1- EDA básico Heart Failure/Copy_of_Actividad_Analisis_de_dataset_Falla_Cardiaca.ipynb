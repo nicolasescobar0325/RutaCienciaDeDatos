{
  "nbformat": 4,
  "nbformat_minor": 5,
  "metadata": {
    "kernelspec": {
      "display_name": "Python 3 (ipykernel)",
      "language": "python",
      "name": "python3"
    },
    "language_info": {
      "codemirror_mode": {
        "name": "ipython",
        "version": 3
      },
      "file_extension": ".py",
      "mimetype": "text/x-python",
      "name": "python",
      "nbconvert_exporter": "python",
      "pygments_lexer": "ipython3",
      "version": "3.9.5"
    },
    "colab": {
      "name": "RESUELTO - Analisis de dataset Falla Cardiaca.ipynb",
      "provenance": []
    }
  },
  "cells": [
    {
      "cell_type": "markdown",
      "metadata": {
        "id": "e23b86e9"
      },
      "source": [
        "<h1>Explorar y entender el dataset \"heart-failure-dataset\"</h1>\n",
        "\n",
        "Las enfermedades cardiovasculares (ECV) son la principal causa de muerte a nivel mundial, cobrando un estimado de 17,9 millones de vidas cada año, lo que representa el 31% de todas las muertes en todo el mundo. Cuatro de cada 5 muertes por ECV se deben a ataques cardíacos y accidentes cerebrovasculares, y un tercio de estas muertes ocurren prematuramente en personas menores de 70 años. La insuficiencia cardíaca es un evento común causado por las enfermedades cardiovasculares.\n",
        "\n",
        "Las personas con enfermedad cardiovascular o que se encuentran en alto riesgo cardiovascular debido a la presencia de uno o más factores de riesgo como hipertensión, diabetes, hiperlipidemia o enfermedad ya establecida, requieren soluciones que les puedan entregar alertas tempranas de insuficiencia cardíaca.\n",
        "\n",
        "<h3>Sobre el dataset:</h3>\n",
        "\n",
        "Este conjunto de datos se creó mediante la combinación de diferentes conjuntos de datos que ya estaban disponibles de forma independiente, pero que no se habían combinado antes. En este conjunto de datos, se combinan 5 conjuntos de datos cardíacos sobre 11 características comunes, lo que lo convierte en el conjunto de datos de enfermedades cardíacas más grande disponible hasta ahora para fines de investigación. Los cinco conjuntos de datos utilizados para su curación son:\n",
        "\n",
        "Cleveland: 303 observaciones\n",
        "Hungarian: 294 observaciones\n",
        "Switzerland: 123 observaciones\n",
        "Long Beach VA: 200 observaciones\n",
        "Stalog (Heart) Data Set: 270 observaciones\n",
        "\n",
        "Total: 1190 observaciones\n",
        "Duplicado: 272 observaciones\n",
        "\n",
        "Conjunto de datos final: 918 observaciones\n",
        "\n",
        "<h3>Sobre la variable objeto de estudio: HeartDisease</h3>\n",
        "\n",
        "Es una variable categórica binaria, '0' indica que no hay enfermedad cardiovascular, '1' indica que hay enfermedad cardiovascular.\n",
        "\n",
        "<h3>Sobre las otras variables:</h3>\n",
        "\n",
        "<b>Age:</b> Edad del paciente en años.<br>\n",
        "<b>Sex:</b> Género del paciente.<br>\n",
        "<b>ChestPainType:</b> Tipo de dolor pectoral [TA: Angina típica, ATA: Angina atípica, NAP: Dolor no anginal, ASY: Asintomático]<br>\n",
        "<b>RestingBP:</b> Presión de la sangre en reposo [mm Hg]<br>\n",
        "<b>Cholesterol:</b> Colesterol sérico [mm/dl]<br>\n",
        "<b>FastingBS:</b> Azúcar en la sangre en ayunas [1: si > 120 mg/dl, 0: de lo contrario]<br>\n",
        "<b>RestingECG:</b> Resultado de electrocardiograma en reposo [Normal: Normal, ST: anormalidad en segment ST o curva T (curva T invertida y/o elevación ST or depresión de > 0.05 mV), LVH: muestra hipertrofia ventricular izquierda probable o definitiva]<br>\n",
        "<b>MaxHR:</b> Máximo ritmo cardiaco alcanzado.<br>\n",
        "<b>ExerciseAngina:</b> Angina inducida por el ejercicio [Y: Si, N: No]<br>\n",
        "<b>Oldpeak:</b> oldpeak = ST. Medida de depression que ocurre en el segmento ST.<br>\n",
        "<b>ST_Slope:</b> Pendiente del segmento ST [Up: pendiente creciente, Flat: plano, Down: pendiente decreciente]<br>\n",
        "<b>HeartDisease:</b> Presenta enfermedad cardiovascular [1: Sí, 0: No]<br>"
      ],
      "id": "e23b86e9"
    },
    {
      "cell_type": "code",
      "metadata": {
        "id": "7d363f8d"
      },
      "source": [
        "import pandas as pd\n",
        "\n",
        "DATA_URL = 'https://raw.githubusercontent.com/nicolasescobar0325/RutaCienciaDeDatos/main/Clase%201-%20Exploracion%20y%20entendimiento%20de%20datos/2-%20actividad/datasets/heart-failure-dataset.csv'\n",
        "df = pd.read_csv(DATA_URL)"
      ],
      "id": "7d363f8d",
      "execution_count": null,
      "outputs": []
    },
    {
      "cell_type": "code",
      "metadata": {
        "id": "TawlfOv6KEkv",
        "colab": {
          "base_uri": "https://localhost:8080/",
          "height": 417
        },
        "outputId": "d14d4ae7-4b98-4254-bd9a-fbc8257572ea"
      },
      "source": [
        "df"
      ],
      "id": "TawlfOv6KEkv",
      "execution_count": null,
      "outputs": [
        {
          "output_type": "execute_result",
          "data": {
            "text/html": [
              "<div>\n",
              "<style scoped>\n",
              "    .dataframe tbody tr th:only-of-type {\n",
              "        vertical-align: middle;\n",
              "    }\n",
              "\n",
              "    .dataframe tbody tr th {\n",
              "        vertical-align: top;\n",
              "    }\n",
              "\n",
              "    .dataframe thead th {\n",
              "        text-align: right;\n",
              "    }\n",
              "</style>\n",
              "<table border=\"1\" class=\"dataframe\">\n",
              "  <thead>\n",
              "    <tr style=\"text-align: right;\">\n",
              "      <th></th>\n",
              "      <th>Age</th>\n",
              "      <th>Sex</th>\n",
              "      <th>ChestPainType</th>\n",
              "      <th>RestingBP</th>\n",
              "      <th>Cholesterol</th>\n",
              "      <th>FastingBS</th>\n",
              "      <th>RestingECG</th>\n",
              "      <th>MaxHR</th>\n",
              "      <th>ExerciseAngina</th>\n",
              "      <th>Oldpeak</th>\n",
              "      <th>ST_Slope</th>\n",
              "      <th>HeartDisease</th>\n",
              "    </tr>\n",
              "  </thead>\n",
              "  <tbody>\n",
              "    <tr>\n",
              "      <th>0</th>\n",
              "      <td>40</td>\n",
              "      <td>M</td>\n",
              "      <td>ATA</td>\n",
              "      <td>140</td>\n",
              "      <td>289</td>\n",
              "      <td>0</td>\n",
              "      <td>Normal</td>\n",
              "      <td>172</td>\n",
              "      <td>N</td>\n",
              "      <td>0.0</td>\n",
              "      <td>Up</td>\n",
              "      <td>0</td>\n",
              "    </tr>\n",
              "    <tr>\n",
              "      <th>1</th>\n",
              "      <td>49</td>\n",
              "      <td>F</td>\n",
              "      <td>NAP</td>\n",
              "      <td>160</td>\n",
              "      <td>180</td>\n",
              "      <td>0</td>\n",
              "      <td>Normal</td>\n",
              "      <td>156</td>\n",
              "      <td>N</td>\n",
              "      <td>1.0</td>\n",
              "      <td>Flat</td>\n",
              "      <td>1</td>\n",
              "    </tr>\n",
              "    <tr>\n",
              "      <th>2</th>\n",
              "      <td>37</td>\n",
              "      <td>M</td>\n",
              "      <td>ATA</td>\n",
              "      <td>130</td>\n",
              "      <td>283</td>\n",
              "      <td>0</td>\n",
              "      <td>ST</td>\n",
              "      <td>98</td>\n",
              "      <td>N</td>\n",
              "      <td>0.0</td>\n",
              "      <td>Up</td>\n",
              "      <td>0</td>\n",
              "    </tr>\n",
              "    <tr>\n",
              "      <th>3</th>\n",
              "      <td>48</td>\n",
              "      <td>F</td>\n",
              "      <td>ASY</td>\n",
              "      <td>138</td>\n",
              "      <td>214</td>\n",
              "      <td>0</td>\n",
              "      <td>Normal</td>\n",
              "      <td>108</td>\n",
              "      <td>Y</td>\n",
              "      <td>1.5</td>\n",
              "      <td>Flat</td>\n",
              "      <td>1</td>\n",
              "    </tr>\n",
              "    <tr>\n",
              "      <th>4</th>\n",
              "      <td>54</td>\n",
              "      <td>M</td>\n",
              "      <td>NAP</td>\n",
              "      <td>150</td>\n",
              "      <td>195</td>\n",
              "      <td>0</td>\n",
              "      <td>Normal</td>\n",
              "      <td>122</td>\n",
              "      <td>N</td>\n",
              "      <td>0.0</td>\n",
              "      <td>Up</td>\n",
              "      <td>0</td>\n",
              "    </tr>\n",
              "    <tr>\n",
              "      <th>...</th>\n",
              "      <td>...</td>\n",
              "      <td>...</td>\n",
              "      <td>...</td>\n",
              "      <td>...</td>\n",
              "      <td>...</td>\n",
              "      <td>...</td>\n",
              "      <td>...</td>\n",
              "      <td>...</td>\n",
              "      <td>...</td>\n",
              "      <td>...</td>\n",
              "      <td>...</td>\n",
              "      <td>...</td>\n",
              "    </tr>\n",
              "    <tr>\n",
              "      <th>913</th>\n",
              "      <td>45</td>\n",
              "      <td>M</td>\n",
              "      <td>TA</td>\n",
              "      <td>110</td>\n",
              "      <td>264</td>\n",
              "      <td>0</td>\n",
              "      <td>Normal</td>\n",
              "      <td>132</td>\n",
              "      <td>N</td>\n",
              "      <td>1.2</td>\n",
              "      <td>Flat</td>\n",
              "      <td>1</td>\n",
              "    </tr>\n",
              "    <tr>\n",
              "      <th>914</th>\n",
              "      <td>68</td>\n",
              "      <td>M</td>\n",
              "      <td>ASY</td>\n",
              "      <td>144</td>\n",
              "      <td>193</td>\n",
              "      <td>1</td>\n",
              "      <td>Normal</td>\n",
              "      <td>141</td>\n",
              "      <td>N</td>\n",
              "      <td>3.4</td>\n",
              "      <td>Flat</td>\n",
              "      <td>1</td>\n",
              "    </tr>\n",
              "    <tr>\n",
              "      <th>915</th>\n",
              "      <td>57</td>\n",
              "      <td>M</td>\n",
              "      <td>ASY</td>\n",
              "      <td>130</td>\n",
              "      <td>131</td>\n",
              "      <td>0</td>\n",
              "      <td>Normal</td>\n",
              "      <td>115</td>\n",
              "      <td>Y</td>\n",
              "      <td>1.2</td>\n",
              "      <td>Flat</td>\n",
              "      <td>1</td>\n",
              "    </tr>\n",
              "    <tr>\n",
              "      <th>916</th>\n",
              "      <td>57</td>\n",
              "      <td>F</td>\n",
              "      <td>ATA</td>\n",
              "      <td>130</td>\n",
              "      <td>236</td>\n",
              "      <td>0</td>\n",
              "      <td>LVH</td>\n",
              "      <td>174</td>\n",
              "      <td>N</td>\n",
              "      <td>0.0</td>\n",
              "      <td>Flat</td>\n",
              "      <td>1</td>\n",
              "    </tr>\n",
              "    <tr>\n",
              "      <th>917</th>\n",
              "      <td>38</td>\n",
              "      <td>M</td>\n",
              "      <td>NAP</td>\n",
              "      <td>138</td>\n",
              "      <td>175</td>\n",
              "      <td>0</td>\n",
              "      <td>Normal</td>\n",
              "      <td>173</td>\n",
              "      <td>N</td>\n",
              "      <td>0.0</td>\n",
              "      <td>Up</td>\n",
              "      <td>0</td>\n",
              "    </tr>\n",
              "  </tbody>\n",
              "</table>\n",
              "<p>918 rows × 12 columns</p>\n",
              "</div>"
            ],
            "text/plain": [
              "     Age Sex ChestPainType  ...  Oldpeak  ST_Slope  HeartDisease\n",
              "0     40   M           ATA  ...      0.0        Up             0\n",
              "1     49   F           NAP  ...      1.0      Flat             1\n",
              "2     37   M           ATA  ...      0.0        Up             0\n",
              "3     48   F           ASY  ...      1.5      Flat             1\n",
              "4     54   M           NAP  ...      0.0        Up             0\n",
              "..   ...  ..           ...  ...      ...       ...           ...\n",
              "913   45   M            TA  ...      1.2      Flat             1\n",
              "914   68   M           ASY  ...      3.4      Flat             1\n",
              "915   57   M           ASY  ...      1.2      Flat             1\n",
              "916   57   F           ATA  ...      0.0      Flat             1\n",
              "917   38   M           NAP  ...      0.0        Up             0\n",
              "\n",
              "[918 rows x 12 columns]"
            ]
          },
          "metadata": {},
          "execution_count": 5
        }
      ]
    },
    {
      "cell_type": "code",
      "metadata": {
        "id": "JIyqAQpIKGqF",
        "colab": {
          "base_uri": "https://localhost:8080/"
        },
        "outputId": "023dd79f-8e4e-4a69-c191-97d69d806643"
      },
      "source": [
        "df.shape"
      ],
      "id": "JIyqAQpIKGqF",
      "execution_count": null,
      "outputs": [
        {
          "output_type": "execute_result",
          "data": {
            "text/plain": [
              "(918, 12)"
            ]
          },
          "metadata": {},
          "execution_count": 10
        }
      ]
    },
    {
      "cell_type": "markdown",
      "metadata": {
        "id": "EuYfIA5IKxqh"
      },
      "source": [
        "Variable edad"
      ],
      "id": "EuYfIA5IKxqh"
    },
    {
      "cell_type": "code",
      "metadata": {
        "id": "14zoU0OfKjRr",
        "colab": {
          "base_uri": "https://localhost:8080/"
        },
        "outputId": "3c87cd3d-6fe1-41fa-9e17-0ed4ca47dcce"
      },
      "source": [
        "df['Age'].min()"
      ],
      "id": "14zoU0OfKjRr",
      "execution_count": null,
      "outputs": [
        {
          "output_type": "execute_result",
          "data": {
            "text/plain": [
              "28"
            ]
          },
          "metadata": {},
          "execution_count": 12
        }
      ]
    },
    {
      "cell_type": "code",
      "metadata": {
        "id": "Fa93zYECKzN8",
        "colab": {
          "base_uri": "https://localhost:8080/"
        },
        "outputId": "7e0cad64-f4be-4893-af80-39a1150750b3"
      },
      "source": [
        "df['Age'].max()"
      ],
      "id": "Fa93zYECKzN8",
      "execution_count": null,
      "outputs": [
        {
          "output_type": "execute_result",
          "data": {
            "text/plain": [
              "77"
            ]
          },
          "metadata": {},
          "execution_count": 13
        }
      ]
    },
    {
      "cell_type": "code",
      "metadata": {
        "id": "3JKZ6SOpLOvd",
        "colab": {
          "base_uri": "https://localhost:8080/"
        },
        "outputId": "d8c6d3d0-0660-44aa-cbdf-695fea817287"
      },
      "source": [
        "df['Age'].mean()"
      ],
      "id": "3JKZ6SOpLOvd",
      "execution_count": null,
      "outputs": [
        {
          "output_type": "execute_result",
          "data": {
            "text/plain": [
              "53.510893246187365"
            ]
          },
          "metadata": {},
          "execution_count": 14
        }
      ]
    },
    {
      "cell_type": "code",
      "metadata": {
        "id": "KEwhUf05LEas",
        "colab": {
          "base_uri": "https://localhost:8080/"
        },
        "outputId": "83d476ed-54b0-4c6d-aa15-3b81f780ab1d"
      },
      "source": [
        "df['Age'].describe()"
      ],
      "id": "KEwhUf05LEas",
      "execution_count": null,
      "outputs": [
        {
          "output_type": "execute_result",
          "data": {
            "text/plain": [
              "count    918.000000\n",
              "mean      53.510893\n",
              "std        9.432617\n",
              "min       28.000000\n",
              "25%       47.000000\n",
              "50%       54.000000\n",
              "75%       60.000000\n",
              "max       77.000000\n",
              "Name: Age, dtype: float64"
            ]
          },
          "metadata": {},
          "execution_count": 15
        }
      ]
    },
    {
      "cell_type": "code",
      "metadata": {
        "id": "JI5TAVZ4LYz2",
        "colab": {
          "base_uri": "https://localhost:8080/"
        },
        "outputId": "54760a22-d732-43c1-aa5e-33711c40c94e"
      },
      "source": [
        "df['Age'].quantile(0.99)"
      ],
      "id": "JI5TAVZ4LYz2",
      "execution_count": null,
      "outputs": [
        {
          "output_type": "execute_result",
          "data": {
            "text/plain": [
              "74.0"
            ]
          },
          "metadata": {},
          "execution_count": 16
        }
      ]
    },
    {
      "cell_type": "code",
      "metadata": {
        "id": "goMf08D4LulR"
      },
      "source": [
        "import seaborn as sns"
      ],
      "id": "goMf08D4LulR",
      "execution_count": null,
      "outputs": []
    },
    {
      "cell_type": "code",
      "metadata": {
        "id": "5_6WBZSdOCGm",
        "colab": {
          "base_uri": "https://localhost:8080/",
          "height": 350
        },
        "outputId": "663847ec-debf-4393-c9d9-69cb14fa766f"
      },
      "source": [
        "sns.distplot(df['Age'], kde=True, hist=False)"
      ],
      "id": "5_6WBZSdOCGm",
      "execution_count": null,
      "outputs": [
        {
          "output_type": "stream",
          "name": "stderr",
          "text": [
            "/usr/local/lib/python3.7/dist-packages/seaborn/distributions.py:2619: FutureWarning: `distplot` is a deprecated function and will be removed in a future version. Please adapt your code to use either `displot` (a figure-level function with similar flexibility) or `kdeplot` (an axes-level function for kernel density plots).\n",
            "  warnings.warn(msg, FutureWarning)\n"
          ]
        },
        {
          "output_type": "execute_result",
          "data": {
            "text/plain": [
              "<matplotlib.axes._subplots.AxesSubplot at 0x7f4ba86ae850>"
            ]
          },
          "metadata": {},
          "execution_count": 22
        },
        {
          "output_type": "display_data",
          "data": {
            "image/png": "[encoded data removed]",
            "text/plain": [
              "<Figure size 432x288 with 1 Axes>"
            ]
          },
          "metadata": {
            "needs_background": "light"
          }
        }
      ]
    },
    {
      "cell_type": "markdown",
      "metadata": {
        "id": "SA_M5Q3UPwc3"
      },
      "source": [
        "Variable Genero"
      ],
      "id": "SA_M5Q3UPwc3"
    },
    {
      "cell_type": "code",
      "metadata": {
        "id": "oth4eYaLOgbY",
        "colab": {
          "base_uri": "https://localhost:8080/"
        },
        "outputId": "7ea53445-4fbd-4f35-d95d-0d8e88c99c55"
      },
      "source": [
        "df['Sex'].isnull().sum()"
      ],
      "id": "oth4eYaLOgbY",
      "execution_count": null,
      "outputs": [
        {
          "output_type": "execute_result",
          "data": {
            "text/plain": [
              "0"
            ]
          },
          "metadata": {},
          "execution_count": 25
        }
      ]
    },
    {
      "cell_type": "code",
      "metadata": {
        "id": "CZIhXUOfP2Pn"
      },
      "source": [
        "import numpy as np\n",
        "\n",
        "df['Sex_null'] = np.nan"
      ],
      "id": "CZIhXUOfP2Pn",
      "execution_count": null,
      "outputs": []
    },
    {
      "cell_type": "code",
      "metadata": {
        "id": "b9OETxAdQbsX",
        "colab": {
          "base_uri": "https://localhost:8080/"
        },
        "outputId": "d0d150f3-547a-442b-ca38-2d1854149454"
      },
      "source": [
        "df['Sex_null'].isnull().sum()"
      ],
      "id": "b9OETxAdQbsX",
      "execution_count": null,
      "outputs": [
        {
          "output_type": "execute_result",
          "data": {
            "text/plain": [
              "918"
            ]
          },
          "metadata": {},
          "execution_count": 29
        }
      ]
    },
    {
      "cell_type": "code",
      "metadata": {
        "id": "7JBBoiYsQfnD",
        "colab": {
          "base_uri": "https://localhost:8080/"
        },
        "outputId": "db1774f5-8b63-4f0a-d9e3-6599ca57b985"
      },
      "source": [
        "df['Sex'].describe()"
      ],
      "id": "7JBBoiYsQfnD",
      "execution_count": null,
      "outputs": [
        {
          "output_type": "execute_result",
          "data": {
            "text/plain": [
              "count     918\n",
              "unique      2\n",
              "top         M\n",
              "freq      725\n",
              "Name: Sex, dtype: object"
            ]
          },
          "metadata": {},
          "execution_count": 30
        }
      ]
    },
    {
      "cell_type": "code",
      "metadata": {
        "id": "3WERy-6uQt0Z",
        "colab": {
          "base_uri": "https://localhost:8080/"
        },
        "outputId": "ae85d58a-3229-4f71-9bdd-e35de58cf05c"
      },
      "source": [
        "df['Sex'].value_counts('Sex')"
      ],
      "id": "3WERy-6uQt0Z",
      "execution_count": null,
      "outputs": [
        {
          "output_type": "execute_result",
          "data": {
            "text/plain": [
              "M    0.78976\n",
              "F    0.21024\n",
              "Name: Sex, dtype: float64"
            ]
          },
          "metadata": {},
          "execution_count": 32
        }
      ]
    },
    {
      "cell_type": "code",
      "metadata": {
        "id": "0dNKZJAxSLtS",
        "colab": {
          "base_uri": "https://localhost:8080/",
          "height": 350
        },
        "outputId": "8d0b7922-ccb8-46a9-b804-0e4eb0c87036"
      },
      "source": [
        "sns.violinplot(df['Age'], hue=df['Sex'], palette=\"pastel\")"
      ],
      "id": "0dNKZJAxSLtS",
      "execution_count": null,
      "outputs": [
        {
          "output_type": "stream",
          "name": "stderr",
          "text": [
            "/usr/local/lib/python3.7/dist-packages/seaborn/_decorators.py:43: FutureWarning: Pass the following variable as a keyword arg: x. From version 0.12, the only valid positional argument will be `data`, and passing other arguments without an explicit keyword will result in an error or misinterpretation.\n",
            "  FutureWarning\n"
          ]
        },
        {
          "output_type": "execute_result",
          "data": {
            "text/plain": [
              "<matplotlib.axes._subplots.AxesSubplot at 0x7f4ba86361d0>"
            ]
          },
          "metadata": {},
          "execution_count": 36
        },
        {
          "output_type": "display_data",
          "data": {
            "image/png": "[encoded data removed]",
            "text/plain": [
              "<Figure size 432x288 with 1 Axes>"
            ]
          },
          "metadata": {
            "needs_background": "light"
          }
        }
      ]
    },
    {
      "cell_type": "code",
      "metadata": {
        "id": "ETXFgBQTS-75",
        "colab": {
          "base_uri": "https://localhost:8080/",
          "height": 350
        },
        "outputId": "24e5e4ec-0ba2-4ae7-f0ca-673b85ed3237"
      },
      "source": [
        "sns.distplot(df[df['Sex']=='F']['Age'])"
      ],
      "id": "ETXFgBQTS-75",
      "execution_count": null,
      "outputs": [
        {
          "output_type": "stream",
          "name": "stderr",
          "text": [
            "/usr/local/lib/python3.7/dist-packages/seaborn/distributions.py:2619: FutureWarning: `distplot` is a deprecated function and will be removed in a future version. Please adapt your code to use either `displot` (a figure-level function with similar flexibility) or `histplot` (an axes-level function for histograms).\n",
            "  warnings.warn(msg, FutureWarning)\n"
          ]
        },
        {
          "output_type": "execute_result",
          "data": {
            "text/plain": [
              "<matplotlib.axes._subplots.AxesSubplot at 0x7f4ba863d990>"
            ]
          },
          "metadata": {},
          "execution_count": 39
        },
        {
          "output_type": "display_data",
          "data": {
            "image/png": "[encoded data removed]",
            "text/plain": [
              "<Figure size 432x288 with 1 Axes>"
            ]
          },
          "metadata": {
            "needs_background": "light"
          }
        }
      ]
    },
    {
      "cell_type": "code",
      "metadata": {
        "id": "6aXhh_4qT-k3",
        "colab": {
          "base_uri": "https://localhost:8080/",
          "height": 350
        },
        "outputId": "f721dc3a-4b14-4ec6-94a7-bf4917ffe1c4"
      },
      "source": [
        "sns.distplot(df[df['Sex']=='M']['Age'])"
      ],
      "id": "6aXhh_4qT-k3",
      "execution_count": null,
      "outputs": [
        {
          "output_type": "stream",
          "name": "stderr",
          "text": [
            "/usr/local/lib/python3.7/dist-packages/seaborn/distributions.py:2619: FutureWarning: `distplot` is a deprecated function and will be removed in a future version. Please adapt your code to use either `displot` (a figure-level function with similar flexibility) or `histplot` (an axes-level function for histograms).\n",
            "  warnings.warn(msg, FutureWarning)\n"
          ]
        },
        {
          "output_type": "execute_result",
          "data": {
            "text/plain": [
              "<matplotlib.axes._subplots.AxesSubplot at 0x7f4ba8406890>"
            ]
          },
          "metadata": {},
          "execution_count": 40
        },
        {
          "output_type": "display_data",
          "data": {
            "image/png": "[encoded data removed]",
            "text/plain": [
              "<Figure size 432x288 with 1 Axes>"
            ]
          },
          "metadata": {
            "needs_background": "light"
          }
        }
      ]
    },
    {
      "cell_type": "code",
      "metadata": {
        "id": "ziZvEIx2UTaw"
      },
      "source": [
        ""
      ],
      "id": "ziZvEIx2UTaw",
      "execution_count": null,
      "outputs": []
    },
    {
      "cell_type": "markdown",
      "metadata": {
        "id": "iaJPEFygUcRg"
      },
      "source": [
        "ChestPainType"
      ],
      "id": "iaJPEFygUcRg"
    },
    {
      "cell_type": "code",
      "metadata": {
        "id": "HJaSuAR0UeEK",
        "colab": {
          "base_uri": "https://localhost:8080/"
        },
        "outputId": "800b2222-df84-4230-ff79-0bfb48b836b0"
      },
      "source": [
        "df['ChestPainType'].describe()"
      ],
      "id": "HJaSuAR0UeEK",
      "execution_count": null,
      "outputs": [
        {
          "output_type": "execute_result",
          "data": {
            "text/plain": [
              "count     918\n",
              "unique      4\n",
              "top       ASY\n",
              "freq      496\n",
              "Name: ChestPainType, dtype: object"
            ]
          },
          "metadata": {},
          "execution_count": 42
        }
      ]
    },
    {
      "cell_type": "code",
      "metadata": {
        "id": "MthdZk--UhRX",
        "colab": {
          "base_uri": "https://localhost:8080/"
        },
        "outputId": "fd3759c5-d655-4f99-e246-8785ac446317"
      },
      "source": [
        "df['ChestPainType'].value_counts('ChestPainType')"
      ],
      "id": "MthdZk--UhRX",
      "execution_count": null,
      "outputs": [
        {
          "output_type": "execute_result",
          "data": {
            "text/plain": [
              "ASY    0.540305\n",
              "NAP    0.221133\n",
              "ATA    0.188453\n",
              "TA     0.050109\n",
              "Name: ChestPainType, dtype: float64"
            ]
          },
          "metadata": {},
          "execution_count": 43
        }
      ]
    },
    {
      "cell_type": "code",
      "metadata": {
        "id": "dK7Re4_bUtil",
        "colab": {
          "base_uri": "https://localhost:8080/",
          "height": 299
        },
        "outputId": "aef8bc8e-ce43-497d-ccd3-367b9064d4b2"
      },
      "source": [
        "sns.violinplot(x=df['ChestPainType'], y=df['Age'], hue=df['HeartDisease'], split=True)"
      ],
      "id": "dK7Re4_bUtil",
      "execution_count": null,
      "outputs": [
        {
          "output_type": "execute_result",
          "data": {
            "text/plain": [
              "<matplotlib.axes._subplots.AxesSubplot at 0x7f4bac01a790>"
            ]
          },
          "metadata": {},
          "execution_count": 49
        },
        {
          "output_type": "display_data",
          "data": {
            "image/png": "[encoded data removed]",
            "text/plain": [
              "<Figure size 432x288 with 1 Axes>"
            ]
          },
          "metadata": {
            "needs_background": "light"
          }
        }
      ]
    },
    {
      "cell_type": "code",
      "metadata": {
        "id": "n6bgGZNnVLo8"
      },
      "source": [
        ""
      ],
      "id": "n6bgGZNnVLo8",
      "execution_count": null,
      "outputs": []
    }
  ]
}
