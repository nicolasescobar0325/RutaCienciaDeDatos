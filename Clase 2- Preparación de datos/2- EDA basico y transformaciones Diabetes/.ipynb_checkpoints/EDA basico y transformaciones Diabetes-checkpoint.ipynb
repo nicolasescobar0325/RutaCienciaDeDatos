{
 "cells": [
  {
   "attachments": {},
   "cell_type": "markdown",
   "id": "e23b86e9",
   "metadata": {},
   "source": [
    "<h1>Explorar y entender el dataset \"diabetes_health_indicators\"</h1>\n",
    "\n",
    "El Sistema de Vigilancia del Factor Comportamental de Riesgo (BRFSS) es una encuesta relacionada con la salud que es recolectada todos los años por la CDC. Cada año, la encuesta recolecta los resultados de cerca de 400,000 ciudadanos Americanos en relación a comportamientos de riesgo relacionados con la salud, condiciones crónicas de salud, y el uso de servicios preventivos. Se ha realizado todos los años desde 1984. \n",
    "\n",
    "<h3>Sobre el dataset:</h3>\n",
    "\n",
    "El set de datos corresponde al año 2015. Algunas variables fueron obtenidas mediante preguntas directas al entrevistado y otras calculadas de acuerdo con otras respuestas. \n",
    "\n",
    "<h3>Sobre la variable objeto de estudio: diabetes_012</h3>\n",
    "\n",
    "Es una variable categórica de 3 clases, '0' indica ausencia de diabetes o sólo durante el embarazo, '1' indica prediabetes y '2' indica diabetes. El dataset cuenta con 21 variables.\n",
    "\n",
    "\n",
    "<h3>Sobre la encuesta y las variables relacionadas:</h3>\n",
    "\n",
    "\n",
    "<b>Diabetes_012:</b> (Alguna vez le dijeron) que tiene diabetes (Si la respuesta es \"Sí\" y el encuestado es mujer, pregunte \"¿Fue esto solo cuando estaba embarazada?\". Si el encuestado dice prediabetes o diabetes limítrofe, use el código de respuesta 4.)<br>\n",
    "<b>HighBP High Blood Pressure:</b> Adultos a quienes un médico, enfermero u otro profesional de la salud les ha dicho que tienen presión arterial alta.<br>\n",
    "<b>HighChol High Cholesterol:</b> ¿ALGUNA VEZ un médico, enfermero u otro profesional de la salud le ha dicho que su colesterol en sangre es alto?<br>\n",
    "<b>CholCheck:</b> Control de colesterol en los últimos cinco años.<br>\n",
    "<b>BMI:</b> Indice de masa corporal.<br>\n",
    "<b>Smoking:</b> ¿Ha fumado al menos 100 cigarrillos en toda su vida? [Nota: 5 paquetes = 100 cigarrillos]<br>\n",
    "<b>Stroke:</b> (Alguna vez te dijeron) que tuviste un derrame cerebral<br>\n",
    "<b>HeartDiseaseorAttack:</b> Encuestados que alguna vez han informado tener enfermedad coronaria (CHD) o infarto de miocardio (MI).<br>\n",
    "<b>PhysActivity Physical Activity:</b> Adultos que informaron haber realizado actividad física o ejercicio durante los últimos 30 días además de su trabajo habitual.<br>\n",
    "<b>Fruits:</b> Consume fruta 1 o más veces al día.<br>\n",
    "<b>Veggies:</b> Consume vegetales 1 o más veces al día. <br>\n",
    "<b>HvyAlcoholConsump Heavy drinkers:</b> Hombres adultos que toman más de 14 tragos por semana y mujeres adultas que toman más de 7 tragos por semana.<br>\n",
    "<b>AnyHealthcare:</b> ¿Tiene algún tipo de cobertura de atención médica, incluido un seguro médico, planes prepagos como HMO o planes gubernamentales como Medicare o Indian Health Service?<br>\n",
    "<b>NoDocbcCost:</b> ¿Hubo algún momento en los últimos 12 meses en el que necesitó ver a un médico pero no pudo debido al costo?<br>\n",
    "<b>GenHlth:</b> Diría que en general su salud es...<br>\n",
    "<b>MentHlth:</b> Ahora, pensando en su salud mental, que incluye estrés, depresión y problemas con las emociones, ¿durante cuántos días durante los últimos 30 días no fue buena su salud mental?<br>\n",
    "<b>PhysHlth:</b> Ahora, pensando en su salud física, que incluye enfermedades y lesiones físicas, ¿durante cuántos días durante los últimos 30 días no fue buena su salud física? <br>\n",
    "<b>DiffWalk:</b> ¿Tiene serias dificultades para caminar o subir escaleras?<br>\n",
    "<b>Sex:</b> Género.<br>\n",
    "<b>Age:</b> Categoría de edad de catorce niveles<br>\n",
    "<b>Education:</b> ¿Cuál es el grado o año escolar más alto que completó?<br>\n",
    "<b>Income:</b> ¿Son sus ingresos familiares anuales de todas las fuentes: (Si el encuestado se niega a cualquier nivel de ingresos, codifique \"Rechazado\")."
   ]
  },
  {
   "cell_type": "code",
   "execution_count": null,
   "id": "7d363f8d",
   "metadata": {},
   "outputs": [],
   "source": [
    "import pandas as pd\n",
    "\n",
    "DATA_URL = 'https://raw.githubusercontent.com/nicolasescobar0325/RutaCienciaDeDatos/main/Clase%201-%20Exploracion%20y%20entendimiento%20de%20datos/1-%20live%20coding/datasets/diabetes_health_indicators.csv'\n",
    "df = pd.read_csv(DATA_URL)"
   ]
  }
 ],
 "metadata": {
  "kernelspec": {
   "display_name": "Python 3 (ipykernel)",
   "language": "python",
   "name": "python3"
  },
  "language_info": {
   "codemirror_mode": {
    "name": "ipython",
    "version": 3
   },
   "file_extension": ".py",
   "mimetype": "text/x-python",
   "name": "python",
   "nbconvert_exporter": "python",
   "pygments_lexer": "ipython3",
   "version": "3.9.5"
  }
 },
 "nbformat": 4,
 "nbformat_minor": 5
}
