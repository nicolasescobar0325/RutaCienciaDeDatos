{
 "cells": [
  {
   "attachments": {},
   "cell_type": "markdown",
   "id": "2bdfc45d",
   "metadata": {},
   "source": [
    "<h1>Explorar y entender el dataset \"clientes\"</h1>\n",
    "\n",
    "La nueva EPS ha visto un incremento en las afiliaciones de usuarios y los servicios ofrecidos en sus sucursales de Bucaramanga en el último año debido a la mejora en los procesos de atención y la buena reputación de la entidad en la región. Por lo tanto, el gerente regional quiere conocer y entender quiénes son sus usuarios, para esto solicita su ayuda como científico de datos para la realización de esta tarea. \n",
    "\n",
    "<h3>Sobre el dataset:</h3>\n",
    "\n",
    "Conjunto de datos sintético creado para el uso de la Ruta 3 Ciencia de Datos Javeriana.\n",
    "\n",
    "\n",
    "<h3>Actividad:</h3>\n",
    "\n",
    "1. Haga una descripción de cada variable e indique su tipo de dato y escala de medida. Indique si hay duplicados o valores nulos.\n",
    "2. Cree una nueva variable calculando la edad de cada cliente de acuerdo a su fecha de nacimiento.\n",
    "3. Realice un grafico de la distribución de la variable edad. \n",
    "4. ¿Cuál es el cliente de mayor edad en el dataset?, ¿Cuál es la edad media?\n",
    "5. Explique cómo sería un dato inválido en el campo email y celular.\n",
    "6. Calcule la proporción de clientes en cada estrato.\n",
    "7. Realice una agrupación por estrato y nivel educativo, haga un conteo para cada categoría.\n",
    "8. Realice una agrupación por estrato y nivel educativo, haga las siguientes agregaciones por categoría para la variable reporta ingresos: media, mínimo y máximo.\n",
    "9. Realice un gráfico de tipo boxplot UNICAMENTE para el nivel de estudios 'UNIV. SUPERIOR', en el eje x utilice la columna ‘estrato’ y en el eje y la columna ‘reporta_ingresos’.\n",
    "10. Realice un grafico de barras con la variable fecha_ingreso, donde el eje x sea el año y el eje y sea la cantidad de ingresos para ese año. \n",
    "11. Cree una columna que se llame ‘indicador_actualizacion’ que por fila aplique una función que tome ‘fecha_registro’ y ‘fecha_actualización’, y realice el siguiente cálculo condicional: Si las dos columnas son iguales y fecha_registro es menor a 6 meses a la fecha asigne el valor ‘NUEVO USUARIO’, si son iguales y la ‘fecha_registro’ es mayor a 6 meses asigne el valor ‘USUARIO DESACTUALIZADO’, si la diferencia entre fechas es mayor a 6 meses y la fecha registro es mayor a 6 meses respecto a la fecha actual asigne el valor ‘USUARIO DESACTUALIZADO’ en el resto de los casos asigne el valor ‘USUARIO ACTUALIZADO’.\n",
    "12. Calcule el indicador de actualización como (USUARIOS ACTUALIZADOS/(USUARIOS ACTUALIZADOS + USUARIOS DESACTUALIZADOS))*100\n",
    "\n"
   ]
  },
  {
   "cell_type": "code",
   "execution_count": null,
   "id": "e3e975d4",
   "metadata": {},
   "outputs": [],
   "source": [
    "DATA_URL = 'https://raw.githubusercontent.com/nicolasescobar0325/RutaCienciaDeDatos/main/Clase%203-%20Preparacion%20y%20curacion%20de%20datos/clientes.csv'\n",
    "df = pd.read_csv(DATA_URL)"
   ]
  }
 ],
 "metadata": {
  "kernelspec": {
   "display_name": "Python 3 (ipykernel)",
   "language": "python",
   "name": "python3"
  },
  "language_info": {
   "codemirror_mode": {
    "name": "ipython",
    "version": 3
   },
   "file_extension": ".py",
   "mimetype": "text/x-python",
   "name": "python",
   "nbconvert_exporter": "python",
   "pygments_lexer": "ipython3",
   "version": "3.9.5"
  }
 },
 "nbformat": 4,
 "nbformat_minor": 5
}
