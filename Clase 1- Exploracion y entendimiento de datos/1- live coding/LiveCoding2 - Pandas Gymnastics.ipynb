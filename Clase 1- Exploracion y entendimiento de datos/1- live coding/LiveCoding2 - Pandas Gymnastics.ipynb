{
 "cells": [
  {
   "cell_type": "markdown",
   "id": "e23b86e9",
   "metadata": {},
   "source": [
    "<h1>Explorar y entender el dataset \"diabetes_health_indicators\"</h1>\n",
    "\n",
    "El Sistema de Vigilancia del Factor Comportamental de Riesgo (BRFSS) es una encuesta relacionada con la salud que es recolectada todos los años por la CDC. Cada año, la encuesta recolecta los resultados de cerca de 400,000 ciudadanos Americanos en relación a comportamientos de riesgo relacionados con la salud, condiciones crónicas de salud, y el uso de servicios preventivos. Se ha realizado todos los años desde 1984. \n",
    "\n",
    "<h3>Sobre el dataset:</h3>\n",
    "El set de datos corresponde al año 2015. Algunas variables fueron obtenidas mediante preguntas directas al entrevistado y otras calculadas de acuerdo con otras respuestas. \n",
    "\n",
    "<h3>Sobre la variable objeto de estudio: diabetes_012</h3>\n",
    "Es una variable categórica de 3 clases, '0' indica ausencia de diabetes o sólo durante el embarazo, '1' indica prediabetes y '2' indica diabetes. El dataset cuenta con 10 variables y se encuentra balanceado."
   ]
  },
  {
   "cell_type": "code",
   "execution_count": null,
   "id": "7d363f8d",
   "metadata": {},
   "outputs": [],
   "source": [
    "import pandas as pd\n",
    "\n",
    "DATA_URL = ''\n",
    "pd.read_csv(DATA_URL)"
   ]
  }
 ],
 "metadata": {
  "kernelspec": {
   "display_name": "Python [conda env:.conda-rappidstest]",
   "language": "python",
   "name": "conda-env-.conda-rappidstest-py"
  },
  "language_info": {
   "codemirror_mode": {
    "name": "ipython",
    "version": 3
   },
   "file_extension": ".py",
   "mimetype": "text/x-python",
   "name": "python",
   "nbconvert_exporter": "python",
   "pygments_lexer": "ipython3",
   "version": "3.7.7"
  }
 },
 "nbformat": 4,
 "nbformat_minor": 5
}
