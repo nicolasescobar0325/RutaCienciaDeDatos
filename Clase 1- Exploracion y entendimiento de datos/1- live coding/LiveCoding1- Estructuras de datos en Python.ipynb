{
 "cells": [
  {
   "cell_type": "markdown",
   "id": "d682adbb",
   "metadata": {},
   "source": [
    "<h1>Estructuras de datos en Python</h1>"
   ]
  },
  {
   "cell_type": "markdown",
   "id": "aca8e2ea",
   "metadata": {},
   "source": [
    "<h2>1. Tipos basicos de variables</h2>"
   ]
  },
  {
   "cell_type": "markdown",
   "id": "764e36c3",
   "metadata": {},
   "source": [
    "<h3>Enteros</h3>"
   ]
  },
  {
   "cell_type": "code",
   "execution_count": null,
   "id": "6e555658",
   "metadata": {},
   "outputs": [],
   "source": []
  },
  {
   "cell_type": "markdown",
   "id": "e0112c8f",
   "metadata": {},
   "source": [
    "<h3>Decimales</h3>"
   ]
  },
  {
   "cell_type": "code",
   "execution_count": null,
   "id": "553cf02b",
   "metadata": {},
   "outputs": [],
   "source": []
  },
  {
   "cell_type": "markdown",
   "id": "25209644",
   "metadata": {},
   "source": [
    "<h3>Cadenas de texto</h3>"
   ]
  },
  {
   "cell_type": "code",
   "execution_count": null,
   "id": "d98da253",
   "metadata": {},
   "outputs": [],
   "source": []
  },
  {
   "cell_type": "markdown",
   "id": "d8657d50",
   "metadata": {},
   "source": [
    "<h2>2. Estructuras de datos basicos</h2>"
   ]
  },
  {
   "cell_type": "markdown",
   "id": "ccb61bf0",
   "metadata": {},
   "source": [
    "<h3>Listas</h3>"
   ]
  },
  {
   "cell_type": "code",
   "execution_count": null,
   "id": "9c282b68",
   "metadata": {},
   "outputs": [],
   "source": []
  },
  {
   "cell_type": "markdown",
   "id": "435cfc74",
   "metadata": {},
   "source": [
    "<h3>Tuplas</h3>"
   ]
  },
  {
   "cell_type": "code",
   "execution_count": null,
   "id": "7235c49f",
   "metadata": {},
   "outputs": [],
   "source": []
  },
  {
   "cell_type": "markdown",
   "id": "29dcde63",
   "metadata": {},
   "source": [
    "<h3>Sets</h3>"
   ]
  },
  {
   "cell_type": "code",
   "execution_count": null,
   "id": "4ae3629a",
   "metadata": {},
   "outputs": [],
   "source": []
  },
  {
   "cell_type": "markdown",
   "id": "26509b46",
   "metadata": {},
   "source": [
    "<h3>Diccionarios</h3>"
   ]
  },
  {
   "cell_type": "code",
   "execution_count": null,
   "id": "2133b1f9",
   "metadata": {},
   "outputs": [],
   "source": []
  },
  {
   "cell_type": "markdown",
   "id": "10973bfa",
   "metadata": {},
   "source": [
    "<h3>Arreglos</h3>"
   ]
  },
  {
   "cell_type": "code",
   "execution_count": 6,
   "id": "771eb455",
   "metadata": {},
   "outputs": [],
   "source": [
    "import numpy as np"
   ]
  },
  {
   "cell_type": "code",
   "execution_count": null,
   "id": "b4c76c77",
   "metadata": {},
   "outputs": [],
   "source": []
  }
 ],
 "metadata": {
  "kernelspec": {
   "display_name": "Python 3 (ipykernel)",
   "language": "python",
   "name": "python3"
  },
  "language_info": {
   "codemirror_mode": {
    "name": "ipython",
    "version": 3
   },
   "file_extension": ".py",
   "mimetype": "text/x-python",
   "name": "python",
   "nbconvert_exporter": "python",
   "pygments_lexer": "ipython3",
   "version": "3.9.5"
  }
 },
 "nbformat": 4,
 "nbformat_minor": 5
}
