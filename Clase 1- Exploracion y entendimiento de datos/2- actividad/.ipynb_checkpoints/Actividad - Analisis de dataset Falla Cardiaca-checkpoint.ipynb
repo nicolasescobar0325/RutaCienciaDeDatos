{
 "cells": [
  {
   "cell_type": "markdown",
   "id": "e23b86e9",
   "metadata": {},
   "source": [
    "<h1>Explorar y entender el dataset \"heart-failure-dataset\"</h1>\n",
    "\n",
    "Las enfermedades cardiovasculares (ECV) son la principal causa de muerte a nivel mundial, cobrando un estimado de 17,9 millones de vidas cada año, lo que representa el 31% de todas las muertes en todo el mundo. Cuatro de cada 5 muertes por ECV se deben a ataques cardíacos y accidentes cerebrovasculares, y un tercio de estas muertes ocurren prematuramente en personas menores de 70 años. La insuficiencia cardíaca es un evento común causado por las enfermedades cardiovasculares.\n",
    "\n",
    "Las personas con enfermedad cardiovascular o que se encuentran en alto riesgo cardiovascular debido a la presencia de uno o más factores de riesgo como hipertensión, diabetes, hiperlipidemia o enfermedad ya establecida, requieren soluciones que les puedan entregar alertas tempranas de insuficiencia cardíaca.\n",
    "\n",
    "<h3>Sobre el dataset:</h3>\n",
    "\n",
    "Este conjunto de datos se creó mediante la combinación de diferentes conjuntos de datos que ya estaban disponibles de forma independiente, pero que no se habían combinado antes. En este conjunto de datos, se combinan 5 conjuntos de datos cardíacos sobre 11 características comunes, lo que lo convierte en el conjunto de datos de enfermedades cardíacas más grande disponible hasta ahora para fines de investigación. Los cinco conjuntos de datos utilizados para su curación son:\n",
    "\n",
    "Cleveland: 303 observaciones\n",
    "Hungarian: 294 observaciones\n",
    "Switzerland: 123 observaciones\n",
    "Long Beach VA: 200 observaciones\n",
    "Stalog (Heart) Data Set: 270 observaciones\n",
    "\n",
    "Total: 1190 observaciones\n",
    "Duplicado: 272 observaciones\n",
    "\n",
    "Conjunto de datos final: 918 observaciones\n",
    "\n",
    "<h3>Sobre la variable objeto de estudio: HeartDisease</h3>\n",
    "\n",
    "Es una variable categórica binaria, '0' indica que no hay enfermedad cardiovascular, '1' indica que hay enfermedad cardiovascular."
   ]
  },
  {
   "cell_type": "code",
   "execution_count": null,
   "id": "7d363f8d",
   "metadata": {},
   "outputs": [],
   "source": [
    "import pandas as pd\n",
    "\n",
    "DATA_URL = 'https://raw.githubusercontent.com/nicolasescobar0325/RutaCienciaDeDatos/main/Clase%201-%20Exploracion%20y%20entendimiento%20de%20datos/2-%20actividad/datasets/heart-failure-dataset.csv'\n",
    "df = pd.read_csv(DATA_URL)"
   ]
  }
 ],
 "metadata": {
  "kernelspec": {
   "display_name": "Python 3 (ipykernel)",
   "language": "python",
   "name": "python3"
  },
  "language_info": {
   "codemirror_mode": {
    "name": "ipython",
    "version": 3
   },
   "file_extension": ".py",
   "mimetype": "text/x-python",
   "name": "python",
   "nbconvert_exporter": "python",
   "pygments_lexer": "ipython3",
   "version": "3.9.5"
  }
 },
 "nbformat": 4,
 "nbformat_minor": 5
}
